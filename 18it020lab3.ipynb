{
  "nbformat": 4,
  "nbformat_minor": 0,
  "metadata": {
    "colab": {
      "name": "18it019lab3.ipynb",
      "provenance": [],
      "include_colab_link": true
    },
    "kernelspec": {
      "name": "python3",
      "display_name": "Python 3"
    }
  },
  "cells": [
    {
      "cell_type": "markdown",
      "metadata": {
        "id": "view-in-github",
        "colab_type": "text"
      },
      "source": [
        "<a href=\"https://colab.research.google.com/github/tanmoydas9166/DMDW-lab3/blob/main/18it020lab3.ipynb\" target=\"_parent\"><img src=\"https://colab.research.google.com/assets/colab-badge.svg\" alt=\"Open In Colab\"/></a>"
      ]
    },
    {
      "cell_type": "code",
      "metadata": {
        "id": "cs_L5I8z9oNv"
      },
      "source": [
        "import numpy as np\n",
        "from matplotlib import pyplot as plt\n"
      ],
      "execution_count": null,
      "outputs": []
    },
    {
      "cell_type": "code",
      "metadata": {
        "id": "aHi8xuOhE8US",
        "colab": {
          "base_uri": "https://localhost:8080/"
        },
        "outputId": "0f9409a9-c983-46ae-8ddb-7952b885034c"
      },
      "source": [
        "x=np.arange(1,11)\n",
        "x"
      ],
      "execution_count": null,
      "outputs": [
        {
          "output_type": "execute_result",
          "data": {
            "text/plain": [
              "array([ 1,  2,  3,  4,  5,  6,  7,  8,  9, 10])"
            ]
          },
          "metadata": {
            "tags": []
          },
          "execution_count": 3
        }
      ]
    },
    {
      "cell_type": "code",
      "metadata": {
        "id": "1eBMRDUdFZyl",
        "colab": {
          "base_uri": "https://localhost:8080/"
        },
        "outputId": "c0c49b1e-27b9-4bf9-984f-c327da5c864b"
      },
      "source": [
        "y = 2*x\n",
        "y"
      ],
      "execution_count": null,
      "outputs": [
        {
          "output_type": "execute_result",
          "data": {
            "text/plain": [
              "array([ 2,  4,  6,  8, 10, 12, 14, 16, 18, 20])"
            ]
          },
          "metadata": {
            "tags": []
          },
          "execution_count": 4
        }
      ]
    },
    {
      "cell_type": "code",
      "metadata": {
        "id": "ZQGuMM70jX2Y",
        "colab": {
          "base_uri": "https://localhost:8080/",
          "height": 265
        },
        "outputId": "00e6d708-b2b0-4c4e-d5fd-5801b639336d"
      },
      "source": [
        "plt.plot(x,y)\n",
        "plt.show()"
      ],
      "execution_count": null,
      "outputs": [
        {
          "output_type": "display_data",
          "data": {
            "image/png": "[encoded data removed]",
            "text/plain": [
              "<Figure size 432x288 with 1 Axes>"
            ]
          },
          "metadata": {
            "tags": [],
            "needs_background": "light"
          }
        }
      ]
    },
    {
      "cell_type": "markdown",
      "metadata": {
        "id": "paes8FAOphfY"
      },
      "source": [
        " **HISTOGRAM**"
      ]
    },
    {
      "cell_type": "markdown",
      "metadata": {
        "id": "tIzqwxnHp4Ny"
      },
      "source": [
        ""
      ]
    },
    {
      "cell_type": "code",
      "metadata": {
        "id": "UyAwfkBxoHmw",
        "colab": {
          "base_uri": "https://localhost:8080/",
          "height": 281
        },
        "outputId": "a30aaedb-9ed1-480d-c18f-1f984c2100c1"
      },
      "source": [
        "#import pandas and matplotLib\n",
        "\n",
        "import pandas as pd \n",
        "import matplotlib.pyplot as plt \n",
        "\n",
        "# create 2D array of table given above \n",
        "data = [['E001', 'M', 34, 123, 'Normal', 350], \n",
        "\t\t['E002', 'F', 40, 114, 'Overweight', 450], \n",
        "\t\t['E003', 'F', 37, 135, 'Obesity', 169], \n",
        "\t\t['E004', 'M', 30, 139, 'Underweight', 189], \n",
        "\t\t['E005', 'F', 44, 117, 'Underweight', 183], \n",
        "\t\t['E006', 'M', 36, 121, 'Normal', 80], \n",
        "\t\t['E007', 'M', 32, 133, 'Obesity', 166], \n",
        "\t\t['E008', 'F', 26, 140, 'Normal', 120], \n",
        "\t\t['E009', 'M', 32, 133, 'Normal', 75], \n",
        "\t\t['E010', 'M', 36, 133, 'Underweight', 40] ] \n",
        "\n",
        "# dataframe created with \n",
        "# the above data array \n",
        "df = pd.DataFrame(data, columns = ['EMPID', 'Gender', 'Age', 'Sales', 'BMI', 'Income'] ) \n",
        "\n",
        "# create histogram for numeric data \n",
        "df.hist() \n",
        "\n",
        "# show plot \n",
        "plt.show()\n",
        "\n"
      ],
      "execution_count": null,
      "outputs": [
        {
          "output_type": "display_data",
          "data": {
            "image/png": "[encoded data removed]",
            "text/plain": [
              "<Figure size 432x288 with 4 Axes>"
            ]
          },
          "metadata": {
            "tags": [],
            "needs_background": "light"
          }
        }
      ]
    },
    {
      "cell_type": "markdown",
      "metadata": {
        "id": "gIs8YEJvqA4j"
      },
      "source": [
        "# New Section"
      ]
    },
    {
      "cell_type": "markdown",
      "metadata": {
        "id": "muYRDnN5qNBA"
      },
      "source": [
        " **BARPLOT**"
      ]
    },
    {
      "cell_type": "code",
      "metadata": {
        "id": "jqgwwoTUqDWu",
        "colab": {
          "base_uri": "https://localhost:8080/",
          "height": 452
        },
        "outputId": "826b2033-7f1a-485e-9576-e5550dbedb0a"
      },
      "source": [
        "import matplotlib.pyplot as plt; plt.rcdefaults()\n",
        "import numpy as np\n",
        "import matplotlib.pyplot as plt\n",
        "\n",
        "objects = ('Python', 'C++', 'Java', 'Perl', 'Scala', 'Lisp')\n",
        "y_pos = np.arange(len(objects))\n",
        "usage = [10,8,6,4,2,1]\n",
        "\n",
        "plt.bar(y_pos, usage, align='center', alpha=0.9)\n",
        "plt.xticks(y_pos)\n",
        "plt.ylabel('Usage')\n",
        "plt.title('Programming language usage')\n",
        "\n",
        "plt.show()\n"
      ],
      "execution_count": null,
      "outputs": [
        {
          "output_type": "display_data",
          "data": {
            "image/png": "[encoded data removed]",
            "text/plain": [
              "<Figure size 640x480 with 1 Axes>"
            ]
          },
          "metadata": {
            "tags": []
          }
        }
      ]
    },
    {
      "cell_type": "markdown",
      "metadata": {
        "id": "V-W3-PHYqmS2"
      },
      "source": [
        "**column chart**"
      ]
    },
    {
      "cell_type": "code",
      "metadata": {
        "id": "R3i8d9dCqtOK",
        "colab": {
          "base_uri": "https://localhost:8080/",
          "height": 444
        },
        "outputId": "033f1dbe-5112-4875-ab35-0dc8777707f5"
      },
      "source": [
        "# Dataframe of previous code is used here \n",
        "\n",
        "# Plot the bar chart for numeric values \n",
        "# a comparison will be shown between \n",
        "# all 3 age, income, sales \n",
        "df.plot.bar() \n",
        "\n",
        "# plot between 2 attributes \n",
        "plt.bar(df['Age'], df['Sales']) \n",
        "plt.xlabel(\"Age\") \n",
        "plt.ylabel(\"Sales\") \n",
        "plt.show()"
      ],
      "execution_count": null,
      "outputs": [
        {
          "output_type": "display_data",
          "data": {
            "image/png": "[encoded data removed]",
            "text/plain": [
              "<Figure size 640x480 with 1 Axes>"
            ]
          },
          "metadata": {
            "tags": []
          }
        }
      ]
    }
  ]
}